{
 "cells": [
  {
   "cell_type": "code",
   "execution_count": null,
   "id": "5a966183",
   "metadata": {},
   "outputs": [],
   "source": [
    "import pandas as pd\n",
    "import matplotlib.pyplot as plt\n",
    "from nltk.sentiment.vader import SentimentIntensityAnalyzer\n",
    "import nltk\n",
    "\n",
    "# Download VADER lexicon if not already downloaded\n",
    "nltk.download('vader_lexicon')\n"
   ]
  },
  {
   "cell_type": "code",
   "execution_count": null,
   "id": "b63c181d",
   "metadata": {},
   "outputs": [],
   "source": [
    "# Load the dataset into a DataFrame (replace 'music_album_reviews.csv' with your actual file path)\n",
    "df = pd.read_csv('music_album_reviews.csv', sep=';')\n",
    "\n",
    "# Display the first few rows of the dataset\n",
    "print(df.head())\n"
   ]
  },
  {
   "cell_type": "code",
   "execution_count": 3,
   "id": "f2882818",
   "metadata": {},
   "outputs": [],
   "source": [
    "# Clean the data: remove or fill NaN values in the 'Review' column\n",
    "df['Review'] = df['Review'].fillna('')  # Fill NaN values with empty strings\n"
   ]
  },
  {
   "cell_type": "code",
   "execution_count": null,
   "id": "2f2e4077",
   "metadata": {},
   "outputs": [],
   "source": [
    "# Visualize the distribution of ratings\n",
    "plt.figure(figsize=(10, 6))\n",
    "plt.hist(df['Rating'], bins=20, edgecolor='k', alpha=0.7)\n",
    "plt.xlabel('Rating')\n",
    "plt.ylabel('Count')\n",
    "plt.title('Distribution of Ratings')\n",
    "plt.show()\n"
   ]
  },
  {
   "cell_type": "code",
   "execution_count": null,
   "id": "40a8b167",
   "metadata": {},
   "outputs": [],
   "source": [
    "# Display the count of ratings\n",
    "rating_counts = df['Rating'].value_counts()\n",
    "print(\"\\nCount of Ratings:\")\n",
    "print(rating_counts)\n"
   ]
  },
  {
   "cell_type": "code",
   "execution_count": 6,
   "id": "9539343e",
   "metadata": {},
   "outputs": [],
   "source": [
    "# Initialize VADER sentiment analyzer\n",
    "sid = SentimentIntensityAnalyzer()\n"
   ]
  },
  {
   "cell_type": "code",
   "execution_count": 7,
   "id": "fedf9c93",
   "metadata": {},
   "outputs": [],
   "source": [
    "# Define function to get VADER sentiment\n",
    "def get_vader_sentiment(text):\n",
    "    try:\n",
    "        sentiment_scores = sid.polarity_scores(text)\n",
    "        compound_score = sentiment_scores['compound']\n",
    "        if compound_score > 0:\n",
    "            return 'Positive'\n",
    "        elif compound_score < 0:\n",
    "            return 'Negative'\n",
    "        else:\n",
    "            return 'Neutral'\n",
    "    except Exception as e:\n",
    "        print(f\"Error processing text: {text}. Error: {e}\")\n",
    "        return 'Neutral'\n"
   ]
  },
  {
   "cell_type": "code",
   "execution_count": null,
   "id": "f3b3571f",
   "metadata": {},
   "outputs": [],
   "source": [
    "# Apply the sentiment analysis to the 'Review' column\n",
    "df['Sentiment'] = df['Review'].apply(get_vader_sentiment)\n",
    "\n",
    "# Display the DataFrame with the new column\n",
    "print(\"\\nDataFrame with Sentiment Analysis:\")\n",
    "print(df.head())\n"
   ]
  },
  {
   "cell_type": "code",
   "execution_count": null,
   "id": "082a3a38",
   "metadata": {},
   "outputs": [],
   "source": [
    "# Display a chart showing the distribution of positive, negative, and neutral reviews\n",
    "sentiment_counts = df['Sentiment'].value_counts()\n",
    "print(\"\\nSentiment Counts:\")\n",
    "print(sentiment_counts)\n"
   ]
  },
  {
   "cell_type": "code",
   "execution_count": null,
   "id": "f44b98e5",
   "metadata": {},
   "outputs": [],
   "source": [
    "# Convert sentiment_counts to lists for plotting\n",
    "sentiments = sentiment_counts.index.tolist()\n",
    "counts = sentiment_counts.values.tolist()\n",
    "\n",
    "plt.figure(figsize=(10, 6))\n",
    "plt.bar(sentiments, counts, color=['green', 'red', 'blue'], alpha=0.7)\n",
    "plt.xlabel('Sentiment')\n",
    "plt.ylabel('Count')\n",
    "plt.title('Distribution of Positive, Negative, and Neutral Reviews')\n",
    "plt.show()\n"
   ]
  }
 ],
 "metadata": {
  "kernelspec": {
   "display_name": "Python 3 (ipykernel)",
   "language": "python",
   "name": "python3"
  },
  "language_info": {
   "codemirror_mode": {
    "name": "ipython",
    "version": 3
   },
   "file_extension": ".py",
   "mimetype": "text/x-python",
   "name": "python",
   "nbconvert_exporter": "python",
   "pygments_lexer": "ipython3",
   "version": "3.12.0"
  }
 },
 "nbformat": 4,
 "nbformat_minor": 5
}
